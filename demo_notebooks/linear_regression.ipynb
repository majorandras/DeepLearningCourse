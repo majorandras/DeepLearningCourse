{
 "cells": [
  {
   "cell_type": "markdown",
   "metadata": {},
   "source": [
    "# Galaxy photometric redshift estimation with linear regression\n",
    "\n",
    "\n",
    "### Background\n",
    "\n",
    "To create a [3D map of the Universe](https://www.youtube.com/watch?v=08LBltePDZw) we need to measure 3 coordinates of galaxies. The celestial coordinates on the sky are easy to get, but measuring their distance is much harder. Since the Universe is expanding, the photons from a far away galaxy are also expanded during their long journey. The expansion of photons is the redshift: well known spectral features are shifted to redder colors. According to [Hubble's law](https://en.wikipedia.org/wiki/Hubble%27s_law), which the distance is approximately proportional to the [redshift](https://en.wikipedia.org/wiki/Redshift). \n",
    "\n",
    "Since galaxies are very faint, it takes a lot of observing time to spread their light in spectrographs and get high resolution spectrum. So, we have _spectroscopic redshift_ only for a limited set of them, for others, redshift may be estimated form _broadband photometry_, the brightness of galaxies took by few color filters. Estimating the redshift from this limited set is called _photometric redshift estimation_. \n",
    "\n",
    "### About the assignment\n",
    "In this notebook you will learn about linear regression and using it for predicting photometric redshifts of galaxies.\n",
    "\n",
    "The notebook has three main parts:\n",
    "- Implement linear regression model\n",
    "- Calculate the gradients of linear regression\n",
    "- Train the model with gradient descent algorithm"
   ]
  },
  {
   "cell_type": "markdown",
   "metadata": {},
   "source": [
    "Run the cell bellow to import the required packages:"
   ]
  },
  {
   "cell_type": "code",
   "execution_count": 2,
   "metadata": {
    "collapsed": true
   },
   "outputs": [],
   "source": [
    "import numpy as np\n",
    "from matplotlib import pyplot as plt\n",
    "import pickle\n",
    "\n",
    "def evaluate(pred,Y):\n",
    "    return np.sqrt(np.mean((pred - Y) ** 2))"
   ]
  },
  {
   "cell_type": "code",
   "execution_count": 3,
   "metadata": {},
   "outputs": [
    {
     "name": "stdout",
     "output_type": "stream",
     "text": [
      "(16000, 4)\n",
      "(16000, 1)\n",
      "(4000, 4)\n",
      "(4000, 1)\n"
     ]
    }
   ],
   "source": [
    "with open(\"photoz_data.pkl\",\"rb\") as f:\n",
    "    data = pickle.load(f)\n",
    "    X    = data[\"X\"]\n",
    "    Y    = data[\"Y\"]\n",
    "\n",
    "Isplit = int(len(X)*0.8)\n",
    "Xtrain = X[:Isplit]\n",
    "Ytrain = Y[:Isplit]\n",
    "Xtest  = X[Isplit:]\n",
    "Ytest  = Y[Isplit:]\n",
    "\n",
    "Ytrain = Ytrain.reshape((-1,1))\n",
    "Ytest  = Ytest.reshape((-1,1))\n",
    "\n",
    "print(Xtrain.shape)\n",
    "print(Ytrain.shape)\n",
    "print(Xtest.shape)\n",
    "print(Ytest.shape)"
   ]
  },
  {
   "cell_type": "markdown",
   "metadata": {},
   "source": [
    "## Linear regression\n",
    "### Model"
   ]
  },
  {
   "cell_type": "markdown",
   "metadata": {},
   "source": [
    "Linear regression is a linear mapping from  ${\\Bbb R}^N$ to ${\\Bbb R}^K$. The formal definition is the following:\n",
    "\\begin{align}\n",
    "f:{\\Bbb R}^N\\rightarrow{\\Bbb R}^K\\\\\n",
    "f(x) = Wx+b,\n",
    "\\end{align}\n",
    "where $x$ is a $N$ dimensional row vector, $W$ is a $K\\times N$ matrix, $b$ is $K$ dimensional row vector and the result $f(x)$ is $K$ dimensional row vector. With matrix notation:\n",
    "\n",
    "\\begin{equation}\n",
    "f(x)\n",
    "= \n",
    "\\begin{bmatrix} \n",
    "    W_{11} & W_{12} & \\dots  & W_{1N}\\\\\n",
    "    W_{21} & W_{22} & \\dots  & W_{2N}\\\\\n",
    "    \\vdots & \\ddots & \\ddots & \\vdots \\\\\n",
    "    W_{K1} & W_{K2} &\\dots   & W_{KN} \n",
    "    \\end{bmatrix}\n",
    "\\begin{bmatrix} \n",
    "    x_{1} \\\\\n",
    "    x_{2} \\\\\n",
    "    \\vdots  \\\\\n",
    "    x_{N} \n",
    "\\end{bmatrix}   \n",
    "+\n",
    "\\begin{bmatrix} \n",
    "    b_{1} \\\\\n",
    "    b_{2} \\\\\n",
    "    \\vdots  \\\\\n",
    "    b_{K} \n",
    "\\end{bmatrix}\n",
    "\\end{equation}\n",
    "\n",
    "\n",
    "As you can see above, our data has a little bit different shape:\n",
    "\\begin{equation}\n",
    "X=\\begin{bmatrix} \n",
    "    X_{11} & X_{12} & X_{13}  & X_{14}\\\\\n",
    "    X_{21} & X_{22} & X_{23}  & X_{24}\\\\\n",
    "    \\vdots &  \\vdots &  \\vdots & \\vdots \\\\\n",
    "    X_{m1} & W_{m2} &W_{m3}   & m_{m4} \n",
    "    \\end{bmatrix},\\;\\;\\;\\;\\;\\;\\;\n",
    "Y = \\begin{bmatrix} \n",
    "    Y_{1} \\\\\n",
    "    Y_{2} \\\\\n",
    "    \\vdots  \\\\\n",
    "    Y_{m} \n",
    "\\end{bmatrix}\n",
    "\\end{equation}\n",
    "\n",
    "What you can see here, is that we have stacked different data points together forming $X$ data matrix. Every row of this matrix contain a single data point (so there is $m$ training example), and each column contains one dimension of our source space (so $N=4$). The target value is $m$ dimensional row vector, so each row contains the target value for one data point (this means $K=1$).\n",
    "\n",
    "\n",
    "You will have to evaluate the $f(x)$ function (this function expects $N=4$ dimensional row vector) for every data point.\n",
    "What you can do, loop over the rows of $X$, get one column, transpose it and evaluate the function.\n",
    "\n",
    "```python\n",
    "for i in range(X.shape[0]):\n",
    "    x = X[i,:].T\n",
    "    prediction = f(x)\n",
    "```\n",
    "\n",
    "But this is not efficient (in case deep neural networks it will be too slow: no cat recognition in this way). To make it efficient we have to vectorize our model. In this case this will be easy.\n",
    "\n",
    "If you transpose $X$ you get $N\\times m$ matrix. If you multiply this with $K\\times N$ matrix, you will get $K\\times m$ matrix. Every column of the result matrix contains the result for one data point. So what we just did? We calculated the first term of the model ($Wx$) for every data point in a single matrix multiplication. \n",
    "\n",
    "What about the bias term ($+b$)? The result of $WX$ is a $K\\times m$ matrix and we try to add $K\\times 1$ row vector to this matrix. This is clearly a mathematical error. We need to transform the $b$ vector to a $k\\times m$ matrix, simply by copying the $b$ row vector $m$ times and forming a matrix. In python you won't have to do this, because of <b>broadcasting</b>. When you try to add $K\\times 1$ vector to $K\\times m$ matrix, python will invoke broadcasting, and will transform $K\\times 1$ vector to $K\\times m$ matrix by copying the vector $m$ times. (This also works if you try to add $1\\times K$ vector $m \\times K$ matrix).\n",
    "\n",
    "So in case of $N=4,K=1$ the vectorization looks like this ($W$ is $1 \\times 4$ column vector, $b$ is $1\\times 1$ row vector :) ):\n",
    "\n",
    "\\begin{equation}\n",
    "f(X)=WX+b=\n",
    "\\begin{bmatrix} \n",
    "    W_{11} & W_{12} &  W_{13}   &  W_{14} \n",
    "\\end{bmatrix}\n",
    "\\begin{bmatrix} \n",
    "    X_{11} & X_{21} & \\dots  & X_{m1}\\\\\n",
    "    X_{12} & X_{22} & \\dots  & X_{m2}\\\\\n",
    "    X_{13} & X_{23} & \\dots  & X_{m3}\\\\\n",
    "    X_{14} & X_{24} & \\dots  & X_{m4}\n",
    "\\end{bmatrix}\n",
    "+b\n",
    "\\end{equation}\n",
    "\n",
    "We transform the result, just to be in the same shape as the target values."
   ]
  },
  {
   "cell_type": "code",
   "execution_count": 4,
   "metadata": {
    "collapsed": true
   },
   "outputs": [],
   "source": [
    "def linreg_model(W, b, X):\n",
    "    X = X.T\n",
    "    Y = np.matmul(W,X)+b\n",
    "    return Y.T"
   ]
  },
  {
   "cell_type": "code",
   "execution_count": 8,
   "metadata": {},
   "outputs": [
    {
     "name": "stdout",
     "output_type": "stream",
     "text": [
      "[[ 0.00429143 -0.17460021  0.43302619]\n",
      " [ 1.20303737 -0.96506567  1.02827408]\n",
      " [ 0.22863013  0.44513761 -1.13660221]\n",
      " [ 0.13513688  1.484537   -1.07980489]]\n",
      "[[-0.52286066 -0.31178875]\n",
      " [-0.41192633 -1.24161289]\n",
      " [ 2.64485535  1.20166258]\n",
      " [ 3.17604692  1.80736371]]\n"
     ]
    }
   ],
   "source": [
    "np.random.seed(10)\n",
    "W = np.random.randn(2,3)\n",
    "b = np.random.randn(2,1)\n",
    "X_ = np.random.randn(4,3)\n",
    "Y_ = linreg_model(W,b, X_)\n",
    "print(Y_)"
   ]
  },
  {
   "cell_type": "markdown",
   "metadata": {},
   "source": [
    "Expected result:\n",
    "\\begin{equation}\n",
    "       [[-0.52286066, -0.31178875],\\\\\n",
    "       [-0.41192633, -1.24161289],\\\\\n",
    "       [ 2.64485535,  1.20166258],\\\\\n",
    "       [ 3.17604692,  1.80736371]]\n",
    "\\end{equation}"
   ]
  },
  {
   "cell_type": "markdown",
   "metadata": {},
   "source": [
    "### Loss function"
   ]
  },
  {
   "cell_type": "markdown",
   "metadata": {},
   "source": [
    "In regression, we use the mean squared error loss function, which is defined with the following equation:\n",
    "\\begin{equation}\n",
    "L(W,b) = \\frac{1}{2m}\\sum_{i=1}^{m} \\left \\| f(x^{(i)})-Y^{(i)}\\right \\|^2\n",
    "\\end{equation}\n",
    "\n",
    "To calculate the sum efficiently we have to vectorize this equation (reminder: our vectorized $f$ can take $X$ and will calculate the prediction for all the data, the result will be the same shape as $Y$). Because $K=1$, $Y$ and $f(X)$ is a $m$ dimensional row vector. The vectorized loss function is the following:\n",
    "\n",
    "\\begin{equation}\n",
    "L(W,b) = \\frac{1}{2m} \\big(f(X)-Y\\big)^T \\big(f(X)-Y\\big)\n",
    "\\end{equation}"
   ]
  },
  {
   "cell_type": "code",
   "execution_count": 5,
   "metadata": {
    "collapsed": true
   },
   "outputs": [],
   "source": [
    "def linreg_loss(prediction, Y):\n",
    "    m = Y.shape[0]\n",
    "\n",
    "    difference = prediction-Y\n",
    "    loss       = np.matmul(difference.T, difference)/float(2*m)\n",
    "\n",
    "    return loss[0,0]"
   ]
  },
  {
   "cell_type": "code",
   "execution_count": 6,
   "metadata": {},
   "outputs": [
    {
     "name": "stdout",
     "output_type": "stream",
     "text": [
      "0.858678507262\n"
     ]
    }
   ],
   "source": [
    "np.random.seed(10)\n",
    "W = np.random.randn(1,3)\n",
    "b = np.random.randn(1,1)\n",
    "X_ = np.random.randn(4,3)\n",
    "Y_ = np.random.randn(4,1)\n",
    "Z_ = linreg_model(W,b,X_)\n",
    "print(linreg_loss(Z_, Y_))"
   ]
  },
  {
   "cell_type": "markdown",
   "metadata": {},
   "source": [
    "### Gradients\n",
    "\n",
    "We can imagine the linear regression model as a two node computational graph:\n",
    "<img src=\"./images/LinearRegressionForwardPass.png\" width=\"70%\" />\n",
    "\n",
    "To evaluate the model, we input X, Y and we do a forward pass on the graph. To calculate the gradients, we do a backward pass on the graph, as the figure shows bellow:\n",
    "<img src=\"./images/LinearRegressionBackwardPass.png\" width=\"70%\" />\n"
   ]
  },
  {
   "cell_type": "code",
   "execution_count": 7,
   "metadata": {
    "collapsed": true
   },
   "outputs": [],
   "source": [
    "def linreg_gradients(Z, X, Y):\n",
    "    m = Z.shape[0]\n",
    "    K = Z.shape[1]\n",
    "    N = X.shape[1]\n",
    "    \n",
    "    \n",
    "    # initialize them with zeros\n",
    "    dLdW = np.zeros((K,N))\n",
    "    dLdb = np.zeros((K,1))\n",
    "    \n",
    "    #calculate the dLdZ\n",
    "    dLdZ = (Z-Y)/float(m)\n",
    "    \n",
    "    #calculate the derivatives\n",
    "    dLdW = np.matmul(dLdZ.T, X)\n",
    "    dLdb = np.sum(dLdZ)\n",
    "    \n",
    "    return (dLdW, dLdb)"
   ]
  },
  {
   "cell_type": "code",
   "execution_count": 8,
   "metadata": {},
   "outputs": [
    {
     "name": "stdout",
     "output_type": "stream",
     "text": [
      "(array([[ 0.09469632, -0.30041199, -0.23023634]]), -0.33342734193801266)\n"
     ]
    }
   ],
   "source": [
    "np.random.seed(10)\n",
    "X_ = np.random.randn(4,3)\n",
    "Y_ = np.random.randn(4,1)\n",
    "Z_ = np.random.randn(4,1)\n",
    "print(linreg_gradients(Z_,X_,Y_))"
   ]
  },
  {
   "cell_type": "markdown",
   "metadata": {},
   "source": [
    "### Gradient descent\n",
    "\n",
    "\n",
    "To train the model we will use gradient descent. The algorithm is the following:\n",
    "```pseudo\n",
    "W = random(W_shape)\n",
    "b = random(b_shape)\n",
    "repeat{\n",
    "    W = W - alpha * dLdW\n",
    "    b = b - alpha * dLdb\n",
    "}\n",
    "```"
   ]
  },
  {
   "cell_type": "code",
   "execution_count": 9,
   "metadata": {
    "collapsed": true
   },
   "outputs": [],
   "source": [
    "def linreg_fit(X,Y, num_iteration=1000, learning_rate=0.1):\n",
    "    m = Y.shape[0]\n",
    "    K = Y.shape[1]\n",
    "    N = X.shape[1]\n",
    "    np.random.seed(20)\n",
    "    \n",
    "    \n",
    "    # initialize the weights\n",
    "    W = np.random.randn(K,N)\n",
    "    b = np.random.randn(K,1)\n",
    "    \n",
    "    train_loss = []\n",
    "    \n",
    "    # Gradient descent\n",
    "    for i in range(num_iteration):\n",
    "        \n",
    "        # Do a forward step on the computational graph (1 line)\n",
    "        Z = linreg_model(W, b, X)\n",
    "        \n",
    "        # Evaluate the loss\n",
    "        loss = linreg_loss(Z, Y)\n",
    "        \n",
    "        # Calculate the gradients (1 line)\n",
    "        dLdW, dLdb = linreg_gradients(Z, X, Y)\n",
    "        \n",
    "        # Update the weights\n",
    "        W = W - learning_rate*dLdW\n",
    "        b = b - learning_rate*dLdb\n",
    "        \n",
    "        train_loss.append(loss)\n",
    "        if i%100==0:\n",
    "            print(\"* iteration=%d,loss= %f\"%(i, loss))\n",
    "        \n",
    "    return (W, b, train_loss)"
   ]
  },
  {
   "cell_type": "code",
   "execution_count": 10,
   "metadata": {},
   "outputs": [
    {
     "name": "stdout",
     "output_type": "stream",
     "text": [
      "* iteration=0,loss= 0.338647\n",
      "* iteration=100,loss= 0.057213\n",
      "* iteration=200,loss= 0.034701\n",
      "* iteration=300,loss= 0.023107\n",
      "* iteration=400,loss= 0.016392\n",
      "* iteration=500,loss= 0.012274\n",
      "* iteration=600,loss= 0.009675\n",
      "* iteration=700,loss= 0.008011\n",
      "* iteration=800,loss= 0.006936\n",
      "* iteration=900,loss= 0.006240\n"
     ]
    }
   ],
   "source": [
    "W, b, train_loss = linreg_fit(Xtrain,Ytrain)"
   ]
  },
  {
   "cell_type": "code",
   "execution_count": 11,
   "metadata": {},
   "outputs": [
    {
     "data": {
      "image/png": "[encoded data removed]",
      "text/plain": [
       "<matplotlib.figure.Figure at 0x7f161dc77198>"
      ]
     },
     "metadata": {},
     "output_type": "display_data"
    }
   ],
   "source": [
    "plt.xlabel(\"iteration\")\n",
    "plt.ylabel(\"Loss\")\n",
    "plt.plot(train_loss)\n",
    "plt.show()"
   ]
  },
  {
   "cell_type": "markdown",
   "metadata": {},
   "source": [
    "Expected output: loss decreasing as function of iterations"
   ]
  },
  {
   "cell_type": "markdown",
   "metadata": {},
   "source": [
    "#### Testing the model"
   ]
  },
  {
   "cell_type": "code",
   "execution_count": 12,
   "metadata": {},
   "outputs": [
    {
     "name": "stdout",
     "output_type": "stream",
     "text": [
      "RMS error on test set = 0.10\n"
     ]
    }
   ],
   "source": [
    "Ypred_test = linreg_model(W, b, Xtest)\n",
    "rms = evaluate(Ypred_test, Ytest)\n",
    "\n",
    "print(\"RMS error on test set = {0:.2f}\".format(rms))"
   ]
  },
  {
   "cell_type": "code",
   "execution_count": 24,
   "metadata": {},
   "outputs": [
    {
     "data": {
      "image/png": "[encoded data removed]",
      "text/plain": [
       "<matplotlib.figure.Figure at 0x7fcad9ea6be0>"
      ]
     },
     "metadata": {},
     "output_type": "display_data"
    }
   ],
   "source": [
    "axis_lim = np.array([-0.1, 1.1])\n",
    "\n",
    "\n",
    "plt.scatter(Ytest, Ypred_test, c='k', lw=0, s=4)\n",
    "plt.plot(axis_lim, axis_lim, '--k')\n",
    "plt.plot(axis_lim, axis_lim + rms, ':k')\n",
    "plt.plot(axis_lim, axis_lim - rms, ':k')\n",
    "plt.xlim(axis_lim)\n",
    "plt.ylim(axis_lim)\n",
    "plt.xlabel(r'$\\mathrm{z_{spec}}$', fontsize=20)\n",
    "plt.ylabel(r'$\\mathrm{z_{phot}}$', fontsize=20)\n",
    "\n",
    "plt.show()\n"
   ]
  }
 ],
 "metadata": {
  "kernelspec": {
   "display_name": "Python 3",
   "language": "python",
   "name": "python3"
  },
  "language_info": {
   "codemirror_mode": {
    "name": "ipython",
    "version": 3
   },
   "file_extension": ".py",
   "mimetype": "text/x-python",
   "name": "python",
   "nbconvert_exporter": "python",
   "pygments_lexer": "ipython3",
   "version": "3.6.3"
  },
  "varInspector": {
   "cols": {
    "lenName": 16,
    "lenType": 16,
    "lenVar": 40
   },
   "kernels_config": {
    "python": {
     "delete_cmd_postfix": "",
     "delete_cmd_prefix": "del ",
     "library": "var_list.py",
     "varRefreshCmd": "print(var_dic_list())"
    },
    "r": {
     "delete_cmd_postfix": ") ",
     "delete_cmd_prefix": "rm(",
     "library": "var_list.r",
     "varRefreshCmd": "cat(var_dic_list()) "
    }
   },
   "types_to_exclude": [
    "module",
    "function",
    "builtin_function_or_method",
    "instance",
    "_Feature"
   ],
   "window_display": false
  }
 },
 "nbformat": 4,
 "nbformat_minor": 2
}
