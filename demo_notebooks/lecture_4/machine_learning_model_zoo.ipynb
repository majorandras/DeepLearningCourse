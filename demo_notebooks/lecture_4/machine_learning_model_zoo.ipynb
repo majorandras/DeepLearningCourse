{
 "cells": [
  {
   "cell_type": "markdown",
   "metadata": {},
   "source": [
    "# Model zoo of machine learning \n",
    "\n",
    "----"
   ]
  },
  {
   "cell_type": "markdown",
   "metadata": {},
   "source": [
    "### It's not just neural networks!\n",
    "\n",
    "Until now, you have learnt about the elements of neural networks. While neural networks are the focus of this course, they are just one of the tools (surely the most exciting one recently) in machine learning. So before you go deeper in deep neural networks, we want to introduce other models too. \n",
    "\n",
    "Neural networks ( too often referred to as 'AI' nowadays ) are **NOT** always the best tool to solve a problem! Therefore we really want to avoid the situation that we give you a (truly powerful) hammer, and everything seems to look like a nail! Some datasets are not like nails, and require different solutions.\n",
    "\n",
    "Please always taylor your models to the data, not the 'AI' hype."
   ]
  },
  {
   "cell_type": "markdown",
   "metadata": {},
   "source": [
    "\n",
    "\n",
    "### Neural networks vs other models\n",
    "\n",
    "Neural networks became immensely popular in the last years, because they perform superbly in the following tasks: computer vision (image recognition/detection/segmentation), natural language processing ( speech recognition, language understanding, etc) and some Google products: game of Go, translation.\n",
    "\n",
    "But they are usually inferior (or not clearly superior) to other solutions in many many problems:\n",
    "* predicting customer behavior based on the company databases: who is unsatisfied and will leave the company, which product should you recommend in a webshop, etc\n",
    "* predicting failed parts in manufacturing based on data measured on the assembly line\n",
    "* predicting stock prices\n",
    "* [playing poker better than humans](https://www.cmu.edu/news/stories/archives/2017/january/AI-beats-poker-pros.html)\n",
    "* etc ( look at kaggle compeitions when the data is not image or sound, all those problems are usually best solved with **not** neural nets)\n",
    "\n",
    "\n",
    "So when should you use neural networks? Oversimplified answer: (and slightly wrong): deep learning for computer vision and natural language processing, probably not deep learning for other datasets.\n",
    "\n",
    "Deeper:\n",
    "* Non neural network models use the input data as it is, and try to guess the output based on the intuition that what is close in X, shall be close in Y.\n",
    "* The layers of neural networks (helped by the humans behind them) are basically learning better and better ( gradually lower dimensional and more correlated with output ) representations of the input data.\n",
    "\n",
    "The distinction then will be:\n",
    "* If the data has a nice and meaningful, unstructured, low dimensional representation then neural networks are probably not the best solution.\n",
    "* If the data has some strong structure (image,voice), it is high dimensional (1MP image has 1 million dimensions!), and it does not have a meaningful low dimensinal representation, neural networks will probably work better than other solutions.\n",
    "\n"
   ]
  },
  {
   "cell_type": "markdown",
   "metadata": {},
   "source": [
    "### Other models used here:\n",
    "\n",
    "- K Nearest Neighbors\n",
    "- Decision trees (random forests)\n",
    "- Support vector machines\n",
    "- There are many more useful models. The purpose of this notebook is to open the window.\n",
    "\n"
   ]
  },
  {
   "cell_type": "markdown",
   "metadata": {},
   "source": [
    "\n",
    "## Some additional thoughts:\n",
    "\n",
    "----"
   ]
  },
  {
   "cell_type": "markdown",
   "metadata": {},
   "source": [
    "### Traditional machine learning models are easier to track than deep learning.\n",
    "\n",
    "\n",
    "- Deep learning advances super fast, best solutions are usually 0-2 years old models. \n",
    "- The other models shown here are mostly decades old, and still relevant today (like quantum mechanics :) )\n",
    "- You are mostly expected to use them, and not improve them. Tweak the parameters but rarely tweak the mechanism. Deep Learning models often require deeper knowledge of the model, and more radical modifications.\n",
    "- Therefore we will only give a brief overview about how ther work, unlike the detailed overview of the elements of neural networks in the last weeks.\n",
    "\n"
   ]
  },
  {
   "cell_type": "markdown",
   "metadata": {},
   "source": [
    "### Superhuman performances / Artificial Intelligence\n",
    "\n",
    "You can read way too often that \"AI\" does this or that as well or better than humans. It is important to put these results into some context.\n",
    "\n",
    "\n",
    "#### Hard problems for humans, easier for machines \n",
    "\n",
    "Traditional machine learning solves problems which are hard for humans. ( **Similarly to calculators ** ). Doing so they almost always reach \"superhuman\" performance. Personally i think it's not very lucky to call that Artifical Intelligence because it is a statsitical modelling which has not much to do with what \"Natural Intelligence\" does.\n",
    "\n",
    "\n",
    "#### Easy problems for humans, harder for machines  \n",
    "\n",
    "Deep Learning usually tries to solve a special subset of 'hard' problems, which humans are able to solve easily, but computers were unable to do it for decades. So it is more reasonable to call these systems Aritifical Intelligence.\n",
    "\n",
    "But still, theese problems are just a well defined subset of tasks humans are able to do:\n",
    "\n",
    "* Visual and audio perception, (translation, text understanding): \"Artificial Perception\", you are not \"intelligent\" if you can recognize a dog, right? They don't show dogs on IQ tests. \n",
    "\n",
    "(More generally deep learning can do things which you can do instinctively, without complex reasoning, in a split second.)\n",
    "\n",
    "---\n",
    "\n",
    "##### Games  \n",
    "\n",
    "A special problems are **games**, which humans do not solve instinctively:\n",
    "\n",
    "Go, this is considered to require intelligence from a human, so is AlphaGo really intelligent? Or is it more like a calucator? Do you think you are intelligent because you can integrate? Mathematica does it better, is it AI?\n",
    "\n",
    "A calculator is clearly not intelligent, Mathematica neither, AlphaGo? ( Because AlphaGo uses neural nets it make it more \"intelligent\"? Stockfish is not considered intelligent, but it is *almost* (?) as good in chess.\n",
    "\n",
    "Board games have a limited world (chess 64 positions) with few rules, and good mechanistic base for the solution (tree search, heuristics (e.g.: with neural net), mcmc tree search). And it can be **simulated**. \n",
    "\n",
    "\n",
    "##### A fully functional agent in the real world\n",
    "\n",
    "The full world need fairly larger representation, has much wider possible steps, and it can not really be simulated. ( Except if we are living in a simulation right? )\n",
    "\n",
    "\n",
    "An article realted to this topic: https://www.quantamagazine.org/why-self-taught-artificial-intelligence-has-trouble-with-the-real-world-20180221/\n",
    "\n",
    "----"
   ]
  },
  {
   "cell_type": "markdown",
   "metadata": {},
   "source": [
    "This notebook was created by Dezso Ribli, if you have any remarks or questions, please contact me.\n",
    "\n",
    "---"
   ]
  },
  {
   "cell_type": "code",
   "execution_count": 1,
   "metadata": {},
   "outputs": [
    {
     "name": "stdout",
     "output_type": "stream",
     "text": [
      "Populating the interactive namespace from numpy and matplotlib\n"
     ]
    }
   ],
   "source": [
    "%pylab inline  \n",
    "# This 'magic' imports useful general stuff ignore it now"
   ]
  },
  {
   "cell_type": "code",
   "execution_count": 2,
   "metadata": {
    "collapsed": true
   },
   "outputs": [],
   "source": [
    "import pandas as pd  # data handling toolbox"
   ]
  },
  {
   "cell_type": "markdown",
   "metadata": {},
   "source": [
    "---\n",
    "\n",
    "### [Scikit learn](http://scikit-learn.org/stable/index.html): the python machine learning toolbox\n",
    "\n",
    "This the essential python library for machine learning. It contains models, metrics, and various helper functions, which make life so much easier. \n",
    "\n"
   ]
  },
  {
   "cell_type": "markdown",
   "metadata": {},
   "source": [
    "Load some models. See more [models and their details here](http://scikit-learn.org/stable/supervised_learning.html)."
   ]
  },
  {
   "cell_type": "code",
   "execution_count": 3,
   "metadata": {
    "collapsed": true
   },
   "outputs": [],
   "source": [
    "from sklearn import linear_model\n",
    "from sklearn import neighbors\n",
    "from sklearn import tree\n",
    "from sklearn import ensemble\n",
    "from sklearn import svm\n",
    "from sklearn import neural_network"
   ]
  },
  {
   "cell_type": "markdown",
   "metadata": {},
   "source": [
    "Load a cross validation wrapper"
   ]
  },
  {
   "cell_type": "code",
   "execution_count": 4,
   "metadata": {
    "collapsed": true
   },
   "outputs": [],
   "source": [
    "from sklearn.model_selection import cross_val_score"
   ]
  },
  {
   "cell_type": "markdown",
   "metadata": {},
   "source": [
    "Let's wrap the wrapper. "
   ]
  },
  {
   "cell_type": "code",
   "execution_count": 5,
   "metadata": {
    "collapsed": true
   },
   "outputs": [],
   "source": [
    "def testClass(model,x,y):\n",
    "    \"\"\"Test a model.\"\"\"\n",
    "    # get CV scores\n",
    "    acc = cross_val_score(model, x, y, cv=5)\n",
    "    # eval them\n",
    "    print('Accuracy: %.2f +/- %.2f' % (100*mean(acc),100*std(acc)))"
   ]
  },
  {
   "cell_type": "markdown",
   "metadata": {},
   "source": [
    "\n",
    "---\n",
    "\n",
    "### A classification dataset: finding the Higgs boson\n",
    "\n",
    "\n",
    "\n",
    "The task is to identify the Higgs boson in simulated events.\n",
    "* Inputs are various physical properties of events. \n",
    "* The labels indicate wheter this event corresponds to the Higgs boson or not.\n",
    "\n",
    "\n",
    "The dataset is hosted [here](http://opendata.cern.ch/record/328), and it was used in a [kaggle challenge](https://www.kaggle.com/c/Higgs-boson)."
   ]
  },
  {
   "cell_type": "markdown",
   "metadata": {},
   "source": [
    "##### Lets load the data and have a look at it:\n",
    "\n",
    "It has 800k rows (data points), and 32 columns (variables)."
   ]
  },
  {
   "cell_type": "code",
   "execution_count": 42,
   "metadata": {
    "scrolled": true
   },
   "outputs": [
    {
     "name": "stdout",
     "output_type": "stream",
     "text": [
      "(10000, 32)\n"
     ]
    },
    {
     "data": {
      "text/html": [
       "<div>\n",
       "<style>\n",
       "    .dataframe thead tr:only-child th {\n",
       "        text-align: right;\n",
       "    }\n",
       "\n",
       "    .dataframe thead th {\n",
       "        text-align: left;\n",
       "    }\n",
       "\n",
       "    .dataframe tbody tr th {\n",
       "        vertical-align: top;\n",
       "    }\n",
       "</style>\n",
       "<table border=\"1\" class=\"dataframe\">\n",
       "  <thead>\n",
       "    <tr style=\"text-align: right;\">\n",
       "      <th></th>\n",
       "      <th>DER_mass_MMC</th>\n",
       "      <th>DER_mass_transverse_met_lep</th>\n",
       "      <th>DER_mass_vis</th>\n",
       "      <th>DER_pt_h</th>\n",
       "      <th>DER_deltaeta_jet_jet</th>\n",
       "      <th>DER_mass_jet_jet</th>\n",
       "      <th>DER_prodeta_jet_jet</th>\n",
       "      <th>DER_deltar_tau_lep</th>\n",
       "      <th>DER_pt_tot</th>\n",
       "      <th>DER_sum_pt</th>\n",
       "      <th>...</th>\n",
       "      <th>PRI_jet_num</th>\n",
       "      <th>PRI_jet_leading_pt</th>\n",
       "      <th>PRI_jet_leading_eta</th>\n",
       "      <th>PRI_jet_leading_phi</th>\n",
       "      <th>PRI_jet_subleading_pt</th>\n",
       "      <th>PRI_jet_subleading_eta</th>\n",
       "      <th>PRI_jet_subleading_phi</th>\n",
       "      <th>PRI_jet_all_pt</th>\n",
       "      <th>Weight</th>\n",
       "      <th>Label</th>\n",
       "    </tr>\n",
       "  </thead>\n",
       "  <tbody>\n",
       "    <tr>\n",
       "      <th>0</th>\n",
       "      <td>138.470</td>\n",
       "      <td>51.655</td>\n",
       "      <td>97.827</td>\n",
       "      <td>27.980</td>\n",
       "      <td>0.91</td>\n",
       "      <td>124.711</td>\n",
       "      <td>2.666</td>\n",
       "      <td>3.064</td>\n",
       "      <td>41.928</td>\n",
       "      <td>197.760</td>\n",
       "      <td>...</td>\n",
       "      <td>2</td>\n",
       "      <td>67.435</td>\n",
       "      <td>2.150</td>\n",
       "      <td>0.444</td>\n",
       "      <td>46.062</td>\n",
       "      <td>1.24</td>\n",
       "      <td>-2.475</td>\n",
       "      <td>113.497</td>\n",
       "      <td>0.000814</td>\n",
       "      <td>1</td>\n",
       "    </tr>\n",
       "    <tr>\n",
       "      <th>1</th>\n",
       "      <td>160.937</td>\n",
       "      <td>68.768</td>\n",
       "      <td>103.235</td>\n",
       "      <td>48.146</td>\n",
       "      <td>-999.00</td>\n",
       "      <td>-999.000</td>\n",
       "      <td>-999.000</td>\n",
       "      <td>3.473</td>\n",
       "      <td>2.078</td>\n",
       "      <td>125.157</td>\n",
       "      <td>...</td>\n",
       "      <td>1</td>\n",
       "      <td>46.226</td>\n",
       "      <td>0.725</td>\n",
       "      <td>1.158</td>\n",
       "      <td>-999.000</td>\n",
       "      <td>-999.00</td>\n",
       "      <td>-999.000</td>\n",
       "      <td>46.226</td>\n",
       "      <td>0.681042</td>\n",
       "      <td>0</td>\n",
       "    </tr>\n",
       "    <tr>\n",
       "      <th>2</th>\n",
       "      <td>-999.000</td>\n",
       "      <td>162.172</td>\n",
       "      <td>125.953</td>\n",
       "      <td>35.635</td>\n",
       "      <td>-999.00</td>\n",
       "      <td>-999.000</td>\n",
       "      <td>-999.000</td>\n",
       "      <td>3.148</td>\n",
       "      <td>9.336</td>\n",
       "      <td>197.814</td>\n",
       "      <td>...</td>\n",
       "      <td>1</td>\n",
       "      <td>44.251</td>\n",
       "      <td>2.053</td>\n",
       "      <td>-2.028</td>\n",
       "      <td>-999.000</td>\n",
       "      <td>-999.00</td>\n",
       "      <td>-999.000</td>\n",
       "      <td>44.251</td>\n",
       "      <td>0.715742</td>\n",
       "      <td>0</td>\n",
       "    </tr>\n",
       "    <tr>\n",
       "      <th>3</th>\n",
       "      <td>143.905</td>\n",
       "      <td>81.417</td>\n",
       "      <td>80.943</td>\n",
       "      <td>0.414</td>\n",
       "      <td>-999.00</td>\n",
       "      <td>-999.000</td>\n",
       "      <td>-999.000</td>\n",
       "      <td>3.310</td>\n",
       "      <td>0.414</td>\n",
       "      <td>75.968</td>\n",
       "      <td>...</td>\n",
       "      <td>0</td>\n",
       "      <td>-999.000</td>\n",
       "      <td>-999.000</td>\n",
       "      <td>-999.000</td>\n",
       "      <td>-999.000</td>\n",
       "      <td>-999.00</td>\n",
       "      <td>-999.000</td>\n",
       "      <td>-0.000</td>\n",
       "      <td>1.660654</td>\n",
       "      <td>0</td>\n",
       "    </tr>\n",
       "    <tr>\n",
       "      <th>4</th>\n",
       "      <td>175.864</td>\n",
       "      <td>16.915</td>\n",
       "      <td>134.805</td>\n",
       "      <td>16.405</td>\n",
       "      <td>-999.00</td>\n",
       "      <td>-999.000</td>\n",
       "      <td>-999.000</td>\n",
       "      <td>3.891</td>\n",
       "      <td>16.405</td>\n",
       "      <td>57.983</td>\n",
       "      <td>...</td>\n",
       "      <td>0</td>\n",
       "      <td>-999.000</td>\n",
       "      <td>-999.000</td>\n",
       "      <td>-999.000</td>\n",
       "      <td>-999.000</td>\n",
       "      <td>-999.00</td>\n",
       "      <td>-999.000</td>\n",
       "      <td>0.000</td>\n",
       "      <td>1.904263</td>\n",
       "      <td>0</td>\n",
       "    </tr>\n",
       "  </tbody>\n",
       "</table>\n",
       "<p>5 rows × 32 columns</p>\n",
       "</div>"
      ],
      "text/plain": [
       "   DER_mass_MMC  DER_mass_transverse_met_lep  DER_mass_vis  DER_pt_h  \\\n",
       "0       138.470                       51.655        97.827    27.980   \n",
       "1       160.937                       68.768       103.235    48.146   \n",
       "2      -999.000                      162.172       125.953    35.635   \n",
       "3       143.905                       81.417        80.943     0.414   \n",
       "4       175.864                       16.915       134.805    16.405   \n",
       "\n",
       "   DER_deltaeta_jet_jet  DER_mass_jet_jet  DER_prodeta_jet_jet  \\\n",
       "0                  0.91           124.711                2.666   \n",
       "1               -999.00          -999.000             -999.000   \n",
       "2               -999.00          -999.000             -999.000   \n",
       "3               -999.00          -999.000             -999.000   \n",
       "4               -999.00          -999.000             -999.000   \n",
       "\n",
       "   DER_deltar_tau_lep  DER_pt_tot  DER_sum_pt  ...    PRI_jet_num  \\\n",
       "0               3.064      41.928     197.760  ...              2   \n",
       "1               3.473       2.078     125.157  ...              1   \n",
       "2               3.148       9.336     197.814  ...              1   \n",
       "3               3.310       0.414      75.968  ...              0   \n",
       "4               3.891      16.405      57.983  ...              0   \n",
       "\n",
       "   PRI_jet_leading_pt  PRI_jet_leading_eta  PRI_jet_leading_phi  \\\n",
       "0              67.435                2.150                0.444   \n",
       "1              46.226                0.725                1.158   \n",
       "2              44.251                2.053               -2.028   \n",
       "3            -999.000             -999.000             -999.000   \n",
       "4            -999.000             -999.000             -999.000   \n",
       "\n",
       "   PRI_jet_subleading_pt  PRI_jet_subleading_eta  PRI_jet_subleading_phi  \\\n",
       "0                 46.062                    1.24                  -2.475   \n",
       "1               -999.000                 -999.00                -999.000   \n",
       "2               -999.000                 -999.00                -999.000   \n",
       "3               -999.000                 -999.00                -999.000   \n",
       "4               -999.000                 -999.00                -999.000   \n",
       "\n",
       "   PRI_jet_all_pt    Weight  Label  \n",
       "0         113.497  0.000814      1  \n",
       "1          46.226  0.681042      0  \n",
       "2          44.251  0.715742      0  \n",
       "3          -0.000  1.660654      0  \n",
       "4           0.000  1.904263      0  \n",
       "\n",
       "[5 rows x 32 columns]"
      ]
     },
     "execution_count": 42,
     "metadata": {},
     "output_type": "execute_result"
    }
   ],
   "source": [
    "cls_data = pd.read_csv('higgs.csv.gz')  # load it\n",
    "print(cls_data.shape)\n",
    "cls_data.head()  # peek"
   ]
  },
  {
   "cell_type": "markdown",
   "metadata": {},
   "source": [
    " Create X,Y matrices."
   ]
  },
  {
   "cell_type": "code",
   "execution_count": 43,
   "metadata": {
    "collapsed": true
   },
   "outputs": [],
   "source": [
    "x = cls_data.drop(['Label'],axis=1).values\n",
    "y = cls_data.Label.values"
   ]
  },
  {
   "cell_type": "code",
   "execution_count": 47,
   "metadata": {},
   "outputs": [
    {
     "data": {
      "text/plain": [
       "(10000, 31)"
      ]
     },
     "execution_count": 47,
     "metadata": {},
     "output_type": "execute_result"
    }
   ],
   "source": [
    "x.shape"
   ]
  },
  {
   "cell_type": "markdown",
   "metadata": {},
   "source": [
    "### OK, lets try some models!"
   ]
  },
  {
   "cell_type": "code",
   "execution_count": 8,
   "metadata": {},
   "outputs": [
    {
     "name": "stdout",
     "output_type": "stream",
     "text": [
      "Accuracy: 86.59 +/- 8.09\n"
     ]
    }
   ],
   "source": [
    "testClass(linear_model.LogisticRegression(), x, y)"
   ]
  },
  {
   "cell_type": "code",
   "execution_count": 9,
   "metadata": {},
   "outputs": [
    {
     "name": "stdout",
     "output_type": "stream",
     "text": [
      "Accuracy: 62.21 +/- 12.16\n"
     ]
    }
   ],
   "source": [
    "testClass(neural_network.MLPClassifier(), x, y)"
   ]
  },
  {
   "cell_type": "code",
   "execution_count": 10,
   "metadata": {},
   "outputs": [
    {
     "name": "stdout",
     "output_type": "stream",
     "text": [
      "Accuracy: 77.04 +/- 0.90\n"
     ]
    }
   ],
   "source": [
    "testClass(neighbors.KNeighborsClassifier(), x, y)"
   ]
  },
  {
   "cell_type": "code",
   "execution_count": 11,
   "metadata": {},
   "outputs": [
    {
     "name": "stdout",
     "output_type": "stream",
     "text": [
      "Accuracy: 100.00 +/- 0.00\n"
     ]
    }
   ],
   "source": [
    "testClass(tree.DecisionTreeClassifier(), x, y)"
   ]
  },
  {
   "cell_type": "code",
   "execution_count": 12,
   "metadata": {},
   "outputs": [
    {
     "name": "stdout",
     "output_type": "stream",
     "text": [
      "Accuracy: 100.00 +/- 0.00\n"
     ]
    }
   ],
   "source": [
    "testClass(ensemble.RandomForestClassifier(), x, y)"
   ]
  },
  {
   "cell_type": "code",
   "execution_count": 13,
   "metadata": {},
   "outputs": [
    {
     "name": "stdout",
     "output_type": "stream",
     "text": [
      "Accuracy: 66.27 +/- 0.03\n"
     ]
    }
   ],
   "source": [
    "testClass(svm.SVC(), x, y)"
   ]
  },
  {
   "cell_type": "markdown",
   "metadata": {},
   "source": [
    "----\n",
    "\n",
    "\n",
    "## A regression dataset: age and DNA methylation\n",
    "\n",
    "Interestingly there is no simple way to guess the age of a person. We are not trees, there are no rings inside us. This can lead to some [interesting situations](https://www.theguardian.com/world/2016/apr/21/canadian-high-school-basketball-star-jonathan-nicola-refugee).\n",
    "\n",
    "There are various methods using bones (featured in CSI) or teeth, but here we will show another method, a simple and surprisingly accurate blood test.\n",
    "\n",
    "The dataset consists of some 'epigenetic' markers on their DNA, called 'methylation'. Each variable represents a specific point in the genome, and their value corresponds to the level of 'methylation' of that position. Methylation is a simple chemical modification of the DNA naturally applied by all cells.\n",
    "\n",
    "![src](http://helicase.pbworks.com/f/DNAmeth.jpg)\n",
    "\n",
    "The task will be: Predict the age of people based on their 'methylation' values.\n",
    "\n",
    "\n",
    "[Data source](https://www.ncbi.nlm.nih.gov/pubmed/23177740?dopt=Abstract)"
   ]
  },
  {
   "cell_type": "markdown",
   "metadata": {},
   "source": [
    "##### Lets load the data and have a look at it:\n",
    "\n",
    "It has 656 rows (data points/individuals), and 600 columns (variables)."
   ]
  },
  {
   "cell_type": "code",
   "execution_count": 14,
   "metadata": {},
   "outputs": [
    {
     "name": "stdout",
     "output_type": "stream",
     "text": [
      "(656, 6000)\n"
     ]
    },
    {
     "data": {
      "text/html": [
       "<div>\n",
       "<style>\n",
       "    .dataframe thead tr:only-child th {\n",
       "        text-align: right;\n",
       "    }\n",
       "\n",
       "    .dataframe thead th {\n",
       "        text-align: left;\n",
       "    }\n",
       "\n",
       "    .dataframe tbody tr th {\n",
       "        vertical-align: top;\n",
       "    }\n",
       "</style>\n",
       "<table border=\"1\" class=\"dataframe\">\n",
       "  <thead>\n",
       "    <tr style=\"text-align: right;\">\n",
       "      <th></th>\n",
       "      <th>cg15903280</th>\n",
       "      <th>cg06931612</th>\n",
       "      <th>cg06091566</th>\n",
       "      <th>cg13856810</th>\n",
       "      <th>cg03269716</th>\n",
       "      <th>cg00328058</th>\n",
       "      <th>cg02494066</th>\n",
       "      <th>cg19945840</th>\n",
       "      <th>cg07181952</th>\n",
       "      <th>cg12407057</th>\n",
       "      <th>...</th>\n",
       "      <th>cg12760479</th>\n",
       "      <th>cg05246190</th>\n",
       "      <th>cg04485799</th>\n",
       "      <th>cg01321673</th>\n",
       "      <th>cg24228040</th>\n",
       "      <th>cg14457918</th>\n",
       "      <th>cg19214594</th>\n",
       "      <th>cg22416596</th>\n",
       "      <th>cg13092901</th>\n",
       "      <th>age</th>\n",
       "    </tr>\n",
       "  </thead>\n",
       "  <tbody>\n",
       "    <tr>\n",
       "      <th>0</th>\n",
       "      <td>0.684724</td>\n",
       "      <td>0.563155</td>\n",
       "      <td>0.095991</td>\n",
       "      <td>0.680305</td>\n",
       "      <td>0.540084</td>\n",
       "      <td>0.597984</td>\n",
       "      <td>0.688217</td>\n",
       "      <td>0.444277</td>\n",
       "      <td>0.666499</td>\n",
       "      <td>0.618196</td>\n",
       "      <td>...</td>\n",
       "      <td>0.203122</td>\n",
       "      <td>0.167868</td>\n",
       "      <td>0.277622</td>\n",
       "      <td>0.335411</td>\n",
       "      <td>0.089313</td>\n",
       "      <td>0.042557</td>\n",
       "      <td>0.101340</td>\n",
       "      <td>0.598267</td>\n",
       "      <td>0.160862</td>\n",
       "      <td>67</td>\n",
       "    </tr>\n",
       "    <tr>\n",
       "      <th>1</th>\n",
       "      <td>0.517232</td>\n",
       "      <td>0.506408</td>\n",
       "      <td>0.100586</td>\n",
       "      <td>0.608048</td>\n",
       "      <td>0.490075</td>\n",
       "      <td>0.546038</td>\n",
       "      <td>0.677310</td>\n",
       "      <td>0.452810</td>\n",
       "      <td>0.604140</td>\n",
       "      <td>0.524437</td>\n",
       "      <td>...</td>\n",
       "      <td>0.210701</td>\n",
       "      <td>0.170298</td>\n",
       "      <td>0.321532</td>\n",
       "      <td>0.385738</td>\n",
       "      <td>0.097602</td>\n",
       "      <td>0.055499</td>\n",
       "      <td>0.106527</td>\n",
       "      <td>0.528350</td>\n",
       "      <td>0.103857</td>\n",
       "      <td>89</td>\n",
       "    </tr>\n",
       "    <tr>\n",
       "      <th>2</th>\n",
       "      <td>0.599632</td>\n",
       "      <td>0.583201</td>\n",
       "      <td>0.108200</td>\n",
       "      <td>0.654993</td>\n",
       "      <td>0.499657</td>\n",
       "      <td>0.593465</td>\n",
       "      <td>0.728634</td>\n",
       "      <td>0.448331</td>\n",
       "      <td>0.679618</td>\n",
       "      <td>0.563532</td>\n",
       "      <td>...</td>\n",
       "      <td>0.224165</td>\n",
       "      <td>0.174149</td>\n",
       "      <td>0.298361</td>\n",
       "      <td>0.389150</td>\n",
       "      <td>0.094574</td>\n",
       "      <td>0.052345</td>\n",
       "      <td>0.110643</td>\n",
       "      <td>0.629068</td>\n",
       "      <td>0.162350</td>\n",
       "      <td>66</td>\n",
       "    </tr>\n",
       "    <tr>\n",
       "      <th>3</th>\n",
       "      <td>0.558150</td>\n",
       "      <td>0.556847</td>\n",
       "      <td>0.119937</td>\n",
       "      <td>0.677207</td>\n",
       "      <td>0.507026</td>\n",
       "      <td>0.624041</td>\n",
       "      <td>0.710796</td>\n",
       "      <td>0.395542</td>\n",
       "      <td>0.683562</td>\n",
       "      <td>0.656782</td>\n",
       "      <td>...</td>\n",
       "      <td>0.213196</td>\n",
       "      <td>0.180396</td>\n",
       "      <td>0.281102</td>\n",
       "      <td>0.358684</td>\n",
       "      <td>0.103197</td>\n",
       "      <td>0.045500</td>\n",
       "      <td>0.120281</td>\n",
       "      <td>0.651358</td>\n",
       "      <td>0.083764</td>\n",
       "      <td>64</td>\n",
       "    </tr>\n",
       "    <tr>\n",
       "      <th>4</th>\n",
       "      <td>0.580601</td>\n",
       "      <td>0.566075</td>\n",
       "      <td>0.073077</td>\n",
       "      <td>0.715584</td>\n",
       "      <td>0.565557</td>\n",
       "      <td>0.625385</td>\n",
       "      <td>0.749879</td>\n",
       "      <td>0.414505</td>\n",
       "      <td>0.646094</td>\n",
       "      <td>0.568832</td>\n",
       "      <td>...</td>\n",
       "      <td>0.193233</td>\n",
       "      <td>0.169397</td>\n",
       "      <td>0.299378</td>\n",
       "      <td>0.393603</td>\n",
       "      <td>0.077079</td>\n",
       "      <td>0.057783</td>\n",
       "      <td>0.128077</td>\n",
       "      <td>0.644327</td>\n",
       "      <td>0.154921</td>\n",
       "      <td>62</td>\n",
       "    </tr>\n",
       "  </tbody>\n",
       "</table>\n",
       "<p>5 rows × 6000 columns</p>\n",
       "</div>"
      ],
      "text/plain": [
       "   cg15903280  cg06931612  cg06091566  cg13856810  cg03269716  cg00328058  \\\n",
       "0    0.684724    0.563155    0.095991    0.680305    0.540084    0.597984   \n",
       "1    0.517232    0.506408    0.100586    0.608048    0.490075    0.546038   \n",
       "2    0.599632    0.583201    0.108200    0.654993    0.499657    0.593465   \n",
       "3    0.558150    0.556847    0.119937    0.677207    0.507026    0.624041   \n",
       "4    0.580601    0.566075    0.073077    0.715584    0.565557    0.625385   \n",
       "\n",
       "   cg02494066  cg19945840  cg07181952  cg12407057 ...   cg12760479  \\\n",
       "0    0.688217    0.444277    0.666499    0.618196 ...     0.203122   \n",
       "1    0.677310    0.452810    0.604140    0.524437 ...     0.210701   \n",
       "2    0.728634    0.448331    0.679618    0.563532 ...     0.224165   \n",
       "3    0.710796    0.395542    0.683562    0.656782 ...     0.213196   \n",
       "4    0.749879    0.414505    0.646094    0.568832 ...     0.193233   \n",
       "\n",
       "   cg05246190  cg04485799  cg01321673  cg24228040  cg14457918  cg19214594  \\\n",
       "0    0.167868    0.277622    0.335411    0.089313    0.042557    0.101340   \n",
       "1    0.170298    0.321532    0.385738    0.097602    0.055499    0.106527   \n",
       "2    0.174149    0.298361    0.389150    0.094574    0.052345    0.110643   \n",
       "3    0.180396    0.281102    0.358684    0.103197    0.045500    0.120281   \n",
       "4    0.169397    0.299378    0.393603    0.077079    0.057783    0.128077   \n",
       "\n",
       "   cg22416596  cg13092901  age  \n",
       "0    0.598267    0.160862   67  \n",
       "1    0.528350    0.103857   89  \n",
       "2    0.629068    0.162350   66  \n",
       "3    0.651358    0.083764   64  \n",
       "4    0.644327    0.154921   62  \n",
       "\n",
       "[5 rows x 6000 columns]"
      ]
     },
     "execution_count": 14,
     "metadata": {},
     "output_type": "execute_result"
    }
   ],
   "source": [
    "reg_data = pd.read_csv('meta_small.csv.gz')\n",
    "print(reg_data.shape)\n",
    "reg_data.head()"
   ]
  },
  {
   "cell_type": "markdown",
   "metadata": {},
   "source": [
    "Create X,Y matrices."
   ]
  },
  {
   "cell_type": "code",
   "execution_count": 48,
   "metadata": {
    "collapsed": true
   },
   "outputs": [],
   "source": [
    "x = reg_data.drop(['age'],axis=1).values\n",
    "y = reg_data.age.values"
   ]
  },
  {
   "cell_type": "code",
   "execution_count": 51,
   "metadata": {},
   "outputs": [
    {
     "data": {
      "text/plain": [
       "(656,)"
      ]
     },
     "execution_count": 51,
     "metadata": {},
     "output_type": "execute_result"
    }
   ],
   "source": [
    "y.shape"
   ]
  },
  {
   "cell_type": "markdown",
   "metadata": {},
   "source": [
    "----\n",
    "\n",
    "Let's load a different wrapper this time, which gives us back the individual predictions, not just scores. This way we score the models ourselves the way we like it, and we can plot results."
   ]
  },
  {
   "cell_type": "code",
   "execution_count": 16,
   "metadata": {
    "collapsed": true
   },
   "outputs": [],
   "source": [
    "from sklearn.model_selection import cross_val_predict"
   ]
  },
  {
   "cell_type": "markdown",
   "metadata": {},
   "source": [
    "Wrap it!"
   ]
  },
  {
   "cell_type": "code",
   "execution_count": 17,
   "metadata": {
    "collapsed": true
   },
   "outputs": [],
   "source": [
    "def testReg(model, x, y):\n",
    "    \"\"\"Test a model.\"\"\"\n",
    "    y_pred = cross_val_predict(model, x, y, cv=5)  \n",
    "        \n",
    "    plot(y,y_pred,'.')  # plot data points\n",
    "    plot([15,90],[15,90])  # y = x line for reference\n",
    "    xlabel('age')  # label, labels, labels\n",
    "    ylabel('predicted age') # and labels\n",
    "\n",
    "    print('RMSE:',((y-y_pred)**2).mean()**0.5)  # primary metric\n",
    "    print('Pearson corr:',np.corrcoef(y,y_pred)[0,1])  # another one"
   ]
  },
  {
   "cell_type": "markdown",
   "metadata": {},
   "source": [
    "### Let's model!"
   ]
  },
  {
   "cell_type": "code",
   "execution_count": 18,
   "metadata": {},
   "outputs": [
    {
     "name": "stdout",
     "output_type": "stream",
     "text": [
      "RMSE: 4.65616665241\n",
      "Pearson corr: 0.94942937516\n"
     ]
    },
    {
     "data": {
      "image/png": "[encoded data removed]",
      "text/plain": [
       "<matplotlib.figure.Figure at 0x7f02dbf31cf8>"
      ]
     },
     "metadata": {},
     "output_type": "display_data"
    }
   ],
   "source": [
    "testReg(linear_model.LinearRegression(), x, y)"
   ]
  },
  {
   "cell_type": "code",
   "execution_count": 19,
   "metadata": {},
   "outputs": [
    {
     "name": "stdout",
     "output_type": "stream",
     "text": [
      "RMSE: 19.6339933095\n",
      "Pearson corr: -0.304441376355\n"
     ]
    },
    {
     "data": {
      "image/png": "[encoded data removed]",
      "text/plain": [
       "<matplotlib.figure.Figure at 0x7f02d2f16390>"
      ]
     },
     "metadata": {},
     "output_type": "display_data"
    }
   ],
   "source": [
    "testReg(neural_network.MLPRegressor(), x, y)"
   ]
  },
  {
   "cell_type": "code",
   "execution_count": 20,
   "metadata": {},
   "outputs": [
    {
     "name": "stdout",
     "output_type": "stream",
     "text": [
      "RMSE: 8.60955580849\n",
      "Pearson corr: 0.829862663754\n"
     ]
    },
    {
     "data": {
      "image/png": "[encoded data removed]",
      "text/plain": [
       "<matplotlib.figure.Figure at 0x7f02da846c50>"
      ]
     },
     "metadata": {},
     "output_type": "display_data"
    }
   ],
   "source": [
    "testReg(neighbors.KNeighborsRegressor(), x, y)"
   ]
  },
  {
   "cell_type": "code",
   "execution_count": 21,
   "metadata": {},
   "outputs": [
    {
     "name": "stdout",
     "output_type": "stream",
     "text": [
      "RMSE: 9.63859113275\n",
      "Pearson corr: 0.777926354365\n"
     ]
    },
    {
     "data": {
      "image/png": "[encoded data removed]",
      "text/plain": [
       "<matplotlib.figure.Figure at 0x7f02da7e04e0>"
      ]
     },
     "metadata": {},
     "output_type": "display_data"
    }
   ],
   "source": [
    "testReg(tree.DecisionTreeRegressor(), x, y)"
   ]
  },
  {
   "cell_type": "code",
   "execution_count": 22,
   "metadata": {},
   "outputs": [
    {
     "name": "stdout",
     "output_type": "stream",
     "text": [
      "RMSE: 6.83865671092\n",
      "Pearson corr: 0.88625575369\n"
     ]
    },
    {
     "data": {
      "image/png": "[encoded data removed]",
      "text/plain": [
       "<matplotlib.figure.Figure at 0x7f02dacee518>"
      ]
     },
     "metadata": {},
     "output_type": "display_data"
    }
   ],
   "source": [
    "testReg(ensemble.RandomForestRegressor(n_jobs=-1), x, y)"
   ]
  },
  {
   "cell_type": "code",
   "execution_count": 23,
   "metadata": {},
   "outputs": [
    {
     "name": "stdout",
     "output_type": "stream",
     "text": [
      "RMSE: 15.1130636674\n",
      "Pearson corr: -0.172118798877\n"
     ]
    },
    {
     "data": {
      "image/png": "[encoded data removed]",
      "text/plain": [
       "<matplotlib.figure.Figure at 0x7f02d2e43b00>"
      ]
     },
     "metadata": {},
     "output_type": "display_data"
    }
   ],
   "source": [
    "testReg(svm.SVR(), x, y)  # just doesnt work ..."
   ]
  },
  {
   "cell_type": "code",
   "execution_count": 24,
   "metadata": {},
   "outputs": [
    {
     "name": "stdout",
     "output_type": "stream",
     "text": [
      "RMSE: 5.00954574042\n",
      "Pearson corr: 0.941455019821\n"
     ]
    },
    {
     "data": {
      "image/png": "[encoded data removed]",
      "text/plain": [
       "<matplotlib.figure.Figure at 0x7f02dabbd470>"
      ]
     },
     "metadata": {},
     "output_type": "display_data"
    }
   ],
   "source": [
    "testReg(svm.SVR(C=1000.), x, y)  \n",
    "# in order to make it work we just force it be linear\n",
    "# but now it's pointless of course."
   ]
  },
  {
   "cell_type": "markdown",
   "metadata": {},
   "source": [
    "----\n",
    "\n",
    "\n",
    "# Messages:\n",
    "\n",
    "\n",
    "* Scikit-learn is your best friend.\n",
    "* There is no single best model. Different models work well in different problems. (Even SVM can be excellent ;) )\n",
    "\n",
    "* The model's have settings!\n",
    "\n",
    "You have to develop an intuition in order to avoid extensive model/hyperparameter search!"
   ]
  },
  {
   "cell_type": "markdown",
   "metadata": {},
   "source": [
    "---\n",
    "\n",
    "# More\n",
    "\n",
    "* There are [plenty of other models too in sklearn](http://scikit-learn.org/stable/supervised_learning.html)\n",
    "* There are lot of models outside sklearn. Most notably:\n",
    "    * Gradient Boosted Trees, and an implementation called [XGBoost](http://xgboost.readthedocs.io/en/latest/)\n",
    "    * Neural networks (and an army of frameworks, but for beginners: [Keras](https://keras.io)"
   ]
  }
 ],
 "metadata": {
  "kernelspec": {
   "display_name": "Python 3",
   "language": "python",
   "name": "python3"
  },
  "language_info": {
   "codemirror_mode": {
    "name": "ipython",
    "version": 3
   },
   "file_extension": ".py",
   "mimetype": "text/x-python",
   "name": "python",
   "nbconvert_exporter": "python",
   "pygments_lexer": "ipython3",
   "version": "3.6.3"
  }
 },
 "nbformat": 4,
 "nbformat_minor": 2
}
